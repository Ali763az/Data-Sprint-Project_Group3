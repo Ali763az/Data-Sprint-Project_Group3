{
 "cells": [
  {
   "cell_type": "code",
   "execution_count": 1,
   "id": "125bc8ba-d694-44f1-959b-052a7a2f99c0",
   "metadata": {},
   "outputs": [],
   "source": [
    "import numpy as np\n",
    "import pandas as pd"
   ]
  },
  {
   "cell_type": "code",
   "execution_count": 54,
   "id": "73ce367f-3559-4abe-b66d-18c5ee483f42",
   "metadata": {},
   "outputs": [],
   "source": [
    "customer = pd.read_csv(\"./olist_customers_dataset.csv\")\n",
    "location=pd.read_csv(\"./olist_geolocation_dataset.csv\")\n",
    "order_item=pd.read_csv(\"./olist_order_items_dataset.csv\")\n",
    "order=pd.read_csv(\"./olist_orders_dataset.csv\")\n",
    "review=pd.read_csv(\"./olist_order_reviews_dataset.csv\")\n",
    "sellers=pd.read_csv(\"./olist_sellers_dataset.csv\")\n",
    "product=pd.read_csv(\"./olist_products_dataset.csv\")"
   ]
  },
  {
   "cell_type": "code",
   "execution_count": 30,
   "id": "d1168261-f3f0-4ef6-8682-8997a14fb8c9",
   "metadata": {},
   "outputs": [],
   "source": [
    "# Step 1: orders + customers\n",
    "order_customer = pd.merge(order, customer, on=\"customer_id\", how=\"left\")\n",
    "\n",
    "# Step 2: add reviews (order_id)\n",
    "#order_customer_review = pd.merge(order_customer, review, on=\"order_id\", how=\"left\")\n",
    "\n",
    "# Step 3: add order_items (order_id)\n",
    "order_customer_item = pd.merge(order_customer, order_item, on=\"order_id\", how=\"left\")\n",
    "\n",
    "# Group by zip code and take the average of lat/lng\n",
    "clean_geo = (\n",
    "    location.groupby([\"geolocation_zip_code_prefix\", \"geolocation_state\"], as_index=False)\n",
    "       .agg({\n",
    "           \"geolocation_lat\": \"mean\",\n",
    "           \"geolocation_lng\": \"mean\"\n",
    "       })\n",
    ")\n",
    "# Step 4: add geolocation (via zip_code_prefix of customers) \n",
    "order_customer_item_location = pd.merge(order_customer_review_item, clean_geo, left_on=\"customer_zip_code_prefix\", right_on=\"geolocation_zip_code_prefix\", how=\"left\")"
   ]
  },
  {
   "cell_type": "code",
   "execution_count": 31,
   "id": "255674cd-6fd5-4867-a311-ec4f00ac0116",
   "metadata": {
    "scrolled": true
   },
   "outputs": [
    {
     "data": {
      "text/plain": [
       "geolocation_zip_code_prefix\n",
       "21550    2\n",
       "4011     2\n",
       "23056    2\n",
       "2116     2\n",
       "72915    2\n",
       "        ..\n",
       "1019     1\n",
       "1020     1\n",
       "1021     1\n",
       "1022     1\n",
       "99880    1\n",
       "Name: count, Length: 19015, dtype: int64"
      ]
     },
     "execution_count": 31,
     "metadata": {},
     "output_type": "execute_result"
    }
   ],
   "source": [
    "#checking duplicates\n",
    "clean_geo['geolocation_zip_code_prefix'].value_counts().sort_values(ascending = False)"
   ]
  },
  {
   "cell_type": "code",
   "execution_count": 35,
   "id": "b5e08275-fa1d-4cd7-ad63-0621cfc5a09f",
   "metadata": {},
   "outputs": [
    {
     "data": {
      "text/plain": [
       "geolocation_zip_code_prefix\n",
       "1001     1\n",
       "1002     1\n",
       "1003     1\n",
       "1004     1\n",
       "1005     1\n",
       "        ..\n",
       "99960    1\n",
       "99965    1\n",
       "99970    1\n",
       "99980    1\n",
       "99990    1\n",
       "Name: count, Length: 19015, dtype: int64"
      ]
     },
     "execution_count": 35,
     "metadata": {},
     "output_type": "execute_result"
    }
   ],
   "source": [
    "clean_geo = clean_geo.drop_duplicates(subset=[\"geolocation_zip_code_prefix\"]) #cleaimg duplicates\n",
    "clean_geo['geolocation_zip_code_prefix'].value_counts().sort_values(ascending = False) #checking if all duplicates r gone"
   ]
  },
  {
   "cell_type": "code",
   "execution_count": 33,
   "id": "fcf9a0da-ec14-48e9-b317-fbd57504bec3",
   "metadata": {},
   "outputs": [
    {
     "data": {
      "text/plain": [
       "(114188, 28)"
      ]
     },
     "execution_count": 33,
     "metadata": {},
     "output_type": "execute_result"
    }
   ],
   "source": [
    "order_customer_item_location.shape"
   ]
  },
  {
   "cell_type": "code",
   "execution_count": 39,
   "id": "a5a5a37d-8033-43e6-b6e0-67a637eaa588",
   "metadata": {},
   "outputs": [],
   "source": [
    "order_customer_item_location.to_csv(\"shipping.csv\",index=False)"
   ]
  },
  {
   "cell_type": "code",
   "execution_count": null,
   "id": "5792e1fe-e703-4e08-bd9b-c9cad66eef8a",
   "metadata": {},
   "outputs": [],
   "source": [
    "# recreating new csv file after finding that i didnt add seller loc"
   ]
  },
  {
   "cell_type": "code",
   "execution_count": 55,
   "id": "03fc68f5-e4b2-436c-b84b-191377771af6",
   "metadata": {},
   "outputs": [],
   "source": [
    "\n",
    "# --- Step 1: Orders + Customers ---\n",
    "order_customer = pd.merge(order, customer, on=\"customer_id\", how=\"left\")\n",
    "\n",
    "# --- Step 2: Add Order Items ---\n",
    "order_customer_item = pd.merge(order_customer, order_item, on=\"order_id\", how=\"left\")\n",
    "\n",
    "# --- Step 3: Add Sellers ---\n",
    "order_customer_item_seller = pd.merge(order_customer_item, sellers, on=\"seller_id\", how=\"left\")\n",
    "\n",
    "# --# --- Step 4: Add products ---\n",
    "order_customer_item_seller_product = pd.merge(order_customer_item_seller, product, on=\"product_id\", how=\"left\")\n",
    "# --- Step 5: Clean Geolocation ---\n",
    "clean_geo = (\n",
    "    location.groupby([\"geolocation_zip_code_prefix\", \"geolocation_state\"], as_index=False)\n",
    "       .agg({\n",
    "           \"geolocation_lat\": \"mean\",\n",
    "           \"geolocation_lng\": \"mean\"\n",
    "       })\n",
    ")\n",
    "clean_geo = clean_geo.drop_duplicates(subset=[\"geolocation_zip_code_prefix\"]) #cleaning duplicates\n",
    "\n",
    "# --- Step 6: Add Customer Geolocation ---\n",
    "order_customer_item_seller_product_geo = pd.merge(\n",
    "    order_customer_item_seller_product,\n",
    "    clean_geo,\n",
    "    left_on=\"customer_zip_code_prefix\",\n",
    "    right_on=\"geolocation_zip_code_prefix\",\n",
    "    how=\"left\",\n",
    "    suffixes=(\"\", \"_cust\")\n",
    ")\n",
    "\n",
    "# --- Step 7: Add Seller Geolocation ---\n",
    "order_customer_item_seller_product_geo = pd.merge(\n",
    "    order_customer_item_seller_product_geo,\n",
    "    clean_geo,\n",
    "    left_on=\"seller_zip_code_prefix\",\n",
    "    right_on=\"geolocation_zip_code_prefix\",\n",
    "    how=\"left\",\n",
    "    suffixes=(\"_cust\", \"_sell\")\n",
    ")\n",
    "\n",
    "# --- Step 8: Drop unnecessary duplicate columns ---\n",
    "order_customer_item_seller_product_geo.drop(columns=[\"geolocation_zip_code_prefix_cust\", \"geolocation_zip_code_prefix_sell\"], inplace=True)\n"
   ]
  },
  {
   "cell_type": "code",
   "execution_count": 56,
   "id": "67f94ca4-eb4e-4855-b25d-8043b5516135",
   "metadata": {},
   "outputs": [
    {
     "data": {
      "text/plain": [
       "(113425, 35)"
      ]
     },
     "execution_count": 56,
     "metadata": {},
     "output_type": "execute_result"
    }
   ],
   "source": [
    "order_customer_item_seller_product_geo.shape"
   ]
  },
  {
   "cell_type": "code",
   "execution_count": 58,
   "id": "4bd5f0e4-fef1-4969-92d0-172623f3272c",
   "metadata": {},
   "outputs": [],
   "source": [
    "order_customer_item_seller_product_geo.to_csv(\"shipping_pupdated.csv\",index=False)"
   ]
  },
  {
   "cell_type": "code",
   "execution_count": null,
   "id": "3b26b72e-8317-4c19-97a3-a34ee91f3085",
   "metadata": {},
   "outputs": [],
   "source": []
  }
 ],
 "metadata": {
  "kernelspec": {
   "display_name": "Python [conda env:base] *",
   "language": "python",
   "name": "conda-base-py"
  },
  "language_info": {
   "codemirror_mode": {
    "name": "ipython",
    "version": 3
   },
   "file_extension": ".py",
   "mimetype": "text/x-python",
   "name": "python",
   "nbconvert_exporter": "python",
   "pygments_lexer": "ipython3",
   "version": "3.12.7"
  }
 },
 "nbformat": 4,
 "nbformat_minor": 5
}
